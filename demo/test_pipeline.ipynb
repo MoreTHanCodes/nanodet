{
 "cells": [
  {
   "cell_type": "code",
   "execution_count": null,
   "metadata": {},
   "outputs": [],
   "source": [
    "import os\n",
    "import time\n",
    "\n",
    "import cv2\n",
    "\n",
    "from nanodet.data.transform import Pipeline\n",
    "from nanodet.util import cfg, load_config\n",
    "from nanodet.util.path import mkdir\n",
    "\n",
    "image_ext = [\".jpg\", \".jpeg\", \".webp\", \".bmp\", \".png\"]\n",
    "video_ext = [\"mp4\", \"mov\", \"avi\", \"mkv\"]\n",
    "\n",
    "def get_image_list(path):\n",
    "    image_names = []\n",
    "    for maindir, subdir, file_name_list in os.walk(path):\n",
    "        for filename in file_name_list:\n",
    "            apath = os.path.join(maindir, filename)\n",
    "            ext = os.path.splitext(apath)[1]\n",
    "            if ext in image_ext:\n",
    "                image_names.append(apath)\n",
    "    return image_names\n",
    "\n",
    "config = \"/home/tao/Github/nanodet_custom/config/gray_stereo.yml\"\n",
    "path = \"/home/tao/Pictures/real_data_stereo_ann/data\"\n",
    "save_result = True\n",
    "\n",
    "local_rank = 0\n",
    "\n",
    "load_config(cfg, config)\n",
    "pipeline = Pipeline(cfg.data.train.pipeline, cfg.data.train.keep_ratio)\n",
    "current_time = time.localtime()\n",
    "\n",
    "if os.path.isdir(path):\n",
    "    files = get_image_list(path)\n",
    "else:\n",
    "    files = [path]\n",
    "files.sort()\n",
    "for image_name in files:\n",
    "    img_info = {\"id\": 0}\n",
    "    if isinstance(image_name, str):\n",
    "        img_info[\"file_name\"] = os.path.basename(image_name)\n",
    "        img = cv2.imread(image_name)\n",
    "    else:\n",
    "        img_info[\"file_name\"] = None\n",
    "\n",
    "    height, width = img.shape[:2]\n",
    "    img_info[\"height\"] = height\n",
    "    img_info[\"width\"] = width\n",
    "    meta = dict(img_info=img_info, raw_img=img, np_img=img, img=img)\n",
    "    meta = pipeline(None, meta, cfg.data.train.input_size)\n",
    "    if save_result:\n",
    "        save_folder = os.path.join(\n",
    "            cfg.save_dir, time.strftime(\"%Y_%m_%d_%H_%M_%S\", current_time)\n",
    "        )\n",
    "        mkdir(local_rank, save_folder)\n",
    "        save_file_name = os.path.join(save_folder, os.path.basename(image_name))\n",
    "        result_image = meta[\"img\"]\n",
    "        cv2.imwrite(save_file_name, result_image)\n",
    "        print(result_image.shape)\n"
   ]
  }
 ],
 "metadata": {
  "interpreter": {
   "hash": "a3be5c3cb281f43bc51459970b10c30a8c9e6b46a1929401e9afc90d041a9d6b"
  },
  "kernelspec": {
   "display_name": "Python 3.8.12 ('nanodet')",
   "language": "python",
   "name": "python3"
  },
  "language_info": {
   "codemirror_mode": {
    "name": "ipython",
    "version": 3
   },
   "file_extension": ".py",
   "mimetype": "text/x-python",
   "name": "python",
   "nbconvert_exporter": "python",
   "pygments_lexer": "ipython3",
   "version": "3.8.12"
  },
  "orig_nbformat": 4
 },
 "nbformat": 4,
 "nbformat_minor": 2
}
